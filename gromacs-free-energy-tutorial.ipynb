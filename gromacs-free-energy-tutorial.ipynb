{
 "cells": [
  {
   "cell_type": "markdown",
   "metadata": {},
   "source": [
    " # Solvation free energy of ethanol\n",
    "![ethanol-water.png](./images/ethanol-water.png)\n",
    "\n",
    " ## Background\n",
    "In this tutorial, we’ll calculate the free energy of solvation of a small molecule: ethanol. This type of calculation can either be done on its own, or can be part of a binding free energy calculation. Such calculations can be important, because the free energy is the most important static quantity in a thermal system: its sign determines the whether of a molecule will be soluble, or whether it will bind to another molecule.\n",
    "\n",
    "We will start this tutorial with some background on how to calculate free energies, and how a free energy of solvation relates to a free energy of binding calculation. Then, we will focus on the practicalities of doing such a calculation in GROMACS. You should use GROMACS 2019 for this tutorial.\n",
    " ## Calculating a binding free energy\n",
    "\n",
    "Calculating free energies can usually only be done using small steps and a full path between one end state and the other. For example, to calculate the binding free energy of the ligand to a protein, we ultimately need to compare the situation of the ligand being bound to the protein, to the situation where both the ligand and the protein are separately in solution:\n",
    "\n",
    "![ligand-binding.png](./images/ligand-binding.png)\n",
    "\n",
    "This could be calculated directly, for example by dragging the ligand away from the protein and integrating the potential of mean force (averaging the force, and integrating it). Forces have very large fluctuations, however, and this turns out to be much more expensive than using *free energy perturbation* methods such as the Bennett Acceptance Ratio (BAR) that we’ll use in the tutorial.\n",
    "\n",
    "Remember that a free energy difference between two states A and B determines their relative probability $p_A$ and $p_B$,\n",
    "$$ \\frac{p_A}{p_b} = exp \\frac{F_B - F_A}{k_BT}$$\n",
    "where $k_B$ is Boltzmann’s constant relating thermal energy to the temperature ($1.38·10^{-23}$ J/K), and T is the temperature. We could, in principle, calculate a free energy difference by waiting long enough, and measuring how often the system is in which state. The free energy differences, however, are often of the order of tens of kJ/mol: for example, the free energy of solvation of ethanol at 298K is -20.1 kJ/mol, which is equivalent to -8.1 $k_BT$: a relative probability of $3·10^{-4}$. We would need to wait a long time for that transition to occur spontaneously, and even longer to get good statistics on it.\n",
    "Because of this probability issue, free energy methods rely on one basic idea: to force the system to where it doesn’t want to be, and then measure by how much it doesn’t want to be there. In free energy perturbation methods, we force the system by coupling the interaction strength between a molecule of interest and the rest of the system to a variable $\\lambda$:\n",
    "$$ E_{total} = E_{ligand-ligand} + E_{rest-rest} + \\lambda E_{ligand-rest}  $$\n",
    "and we slowly turn $\\lambda$ from 1 to 0. This means we can effectively turn off a molecule, and pretend that it is in vacuum (at $\\lambda=0$): we force the system to where it doesn’t want to be (either in the solvated or in the vacuum state, depending on what the sign of the free energy difference is). We’ll then use the BAR method of calculating by how much it doesn’t want to be there.\n",
    "\n",
    "Coupling and de-coupling in this way helps us with calculating the free energy of binding, because we can now create a two-step path:\n",
    "![fep.png](./images/fep.png)\n",
    "where we first de-couple the ligand from the solvent, and then re-solvate the ligand in the presence of the protein. The free energy of binding is thus \n",
    "$$ \\Delta G_{binding} = \\Delta G_1 + \\Delta G_2  $$\n",
    "and the simulation is split into two parts: one calculating the de-solvation free energy, and one involving the free energy of coupling of a molecule into the system with a protein. That last simulation couples the ligand from $\\lambda=0¤ where it doesn’t interact with the system, to the situation at $\\lambda=1$, where the protein is bound to the ligand. The first simulation is the inverse of a free energy of solvation. This is the one we’ll concentrate on in this tutorial - partly for computational performance reasons: because there is no protein involved, the simulation box size can be small and the simulations will be fast.\n",
    "\n",
    " ## Free energy of solvation\n",
    "\n",
    "To calculate a free energy of solvation, we calculate $-\\Delta G_1$ in the picture above, or, equivalently, $\\Delta G_{solv}$ in this picture:\n",
    "![fe-solvation.png](./images/fe-solvation.png)\n",
    "We’ll do this coupling our molecule to a variable $\\lambda$ (see equations above) and Bennett Acceptance Ratio (BAR) calculations, as built into GROMACS.\n",
    "\n",
    "The BAR method relies on the output of pairs of simulations, say at state $\\lambda$A and $\\lambda$B. The free energy difference can be calculated directly if $\\lambda$A and $\\lambda$B are close enough (see Bennett’s original article: Bennett, J. Comp. Phys, (1976) vol. 22 p. 245 for details), by calculating the Monte Carlo acceptance rates of transitions from $\\lambda$A to $\\lambda$B and vice versa, mapping states from $\\lambda$A and $\\lambda$B. The term ‘close enough’ here means that switching between the two states should be possible in both directions: some of the same configurations should be allowed in both end points (i.e. they should share some parts of phase space).\n",
    "\n",
    "The most obvious points for $\\lambda$A and $\\lambda$B would be $\\lambda$A =0 and $\\lambda$B=1. These end points, however, usually have very few states in common: they share very little phase space. Because of this, the free energy would never converge to a usable value. That’s why we’ll split up the problem:\n",
    "![fep-coupling.png](./images/fep-coupling.png)\n",
    "with as many $\\lambda$ points as are needed. We will therefore effectively ‘slowly’ turn on (or off) the interactions between our ligand and the solvent. This means that we need to run as many simulations as there are $\\lambda$ points, that we need to tell each simulation which neighboring $\\lambda$ points there are, and that we will post-process the results combining the results of many simulations (we will use 7 $\\lambda$ points: 0, 0.2, 0.4, 0.6, 0.8, 0.9 and 1). As an example, we will run one simulation at $\\lambda$=0.4, and that simulation will calculate the energy differences between its $\\lambda$ point and the neighboring points $\\lambda$=0.2 and $\\lambda$=0.6.\n",
    "\n",
    "We will take one shortcut: we will turn off both the electrostatic (Coulomb) interactions and the Van der Waals (Lennard-Jones) interactions at the same time. For high-quality results, these stages are normally separated, but here we will do them both at the same time for expediency. Gromacs uses ‘soft-core’ interactions to make sure that while the normal (Lennard-Jones and Coulomb) interactions are being turned off, there will never be two point charges sitting on top of each other: this is achieved by turning on an interaction that effectively repels particles at intermediate $\\lambda$ points (in such a way that it cancels out from the free energy difference).\n"
   ]
  },
  {
   "cell_type": "markdown",
   "metadata": {},
   "source": [
    " ## Preparing the system\n",
    "Look for a file named **topol.top**, and a very basic coordinate file named **ethanol.gro**. This topology uses the OPLS force field and defines a methane molecule, and includes the definitions for SPC/E water.\n",
    "\n",
    "We will use the following 'boilerplate' code to prepare some files.\n"
   ]
  },
  {
   "cell_type": "code",
   "execution_count": null,
   "metadata": {},
   "outputs": [],
   "source": [
    "import shlex,os,modulecmd,subprocess,shutil\n",
    "\n",
    "#allow use of modules\n",
    "module=modulecmd.Modulecmd()\n",
    "\n",
    "#load gromacs module\n",
    "module.load('gromacs/2019')\n",
    "\n",
    "#simple terminal functionality\n",
    "def terminal_call(command_string, directory):\n",
    "    command=shlex.split(command_string)\n",
    "    proc=subprocess.run(command,cwd=directory,stdout=subprocess.PIPE,stderr=subprocess.STDOUT)\n",
    "    print(proc.stdout.decode())\n",
    "\n",
    "#simple function to write mdp files\n",
    "def write_mdp(mdp_string, mdp_name, directory):\n",
    "    mdp_filename=os.path.join(directory,mdp_name)\n",
    "    mdp_filehandle=open(mdp_filename,'w')\n",
    "    mdp_filehandle.write(mdp_string)\n",
    "    mdp_filehandle.close()\n",
    "\n",
    "#get the path to the working directory\n",
    "pwd=os.getcwd()\n",
    "\n",
    "#path to gromacs files\n",
    "input_files=os.path.join(pwd,'input_files')\n",
    "output_files=os.path.join(pwd,'output_files')\n",
    "if not os.path.isdir(output_files):\n",
    "    os.mkdir(output_files)\n",
    "shutil.copy(os.path.join(input_files,'ethanol.gro'),os.path.join(output_files,'ethanol.gro'))\n",
    "shutil.copy(os.path.join(input_files,'topol.top'),os.path.join(output_files,'topol.top'))"
   ]
  },
  {
   "cell_type": "markdown",
   "metadata": {},
   "source": [
    "**Question**: Take a look at the topology file topol.top. For the ethanol molecule definition, can you find which atoms are there, and how they are connected? We got the ethanol parameters by borrowing a threonine side chain...\n",
    "We will first prepare the simulation box: the original configuration file has a dummy simulation box associated with it (you can see that by looking at the file **ethanol.gro**). We do this with the following cell.\n"
   ]
  },
  {
   "cell_type": "code",
   "execution_count": null,
   "metadata": {},
   "outputs": [],
   "source": [
    "editconf_string=\"gmx editconf -f ethanol.gro -o box.gro -bt dodecahedron -d 1\"\n",
    "terminal_call(editconf_string,output_files)"
   ]
  },
  {
   "cell_type": "markdown",
   "metadata": {},
   "source": [
    "This sets up the simulation box. In this case, it will make the simulation box a rhombic dodecahedron with a minimum distance between the solute (the ethanol molecule) and the box edge of 1nm. The box is a rhombic dodecahedron because it provides a more effective packing of periodic images than rectangular boxes: we can use fewer waters for the same distance between periodic images of the ethanol molecule. See the Gromacs manual for illustrations of this box shape and how its periodic images are arranged.\n",
    "\n",
    "Next, we solvate the system in water with the following cell.\n"
   ]
  },
  {
   "cell_type": "code",
   "execution_count": null,
   "metadata": {},
   "outputs": [],
   "source": [
    "solvate_string=\"gmx solvate -cp box.gro -cs -o solvated.gro -p topol.top\"\n",
    "terminal_call(solvate_string,output_files)"
   ]
  },
  {
   "cell_type": "markdown",
   "metadata": {},
   "source": [
    "This should generate a system with ~300 water molecules taken from the default file name of the -cs option: a box of equilibrated water molecules. To make the configuration suitable for simulation, we will first minimize its energy, twice: once with flexible bonds, and once with constrained bonds. For the minimization we will use the following settings (see the included file em.mdp)\n",
    "\n",
    "We will create the mdp file by executing the next cell.\n"
   ]
  },
  {
   "cell_type": "code",
   "execution_count": null,
   "metadata": {},
   "outputs": [],
   "source": [
    "em_mdp=\"\"\";minimal mdp options for energy minimization\n",
    "integrator               = steep\n",
    "nsteps                   = 500\n",
    "coulombtype              = pme\n",
    "vdw-type                 = pme\n",
    "\"\"\"\n",
    "write_mdp(em_mdp,'em.mdp',output_files)"
   ]
  },
  {
   "cell_type": "markdown",
   "metadata": {},
   "source": [
    "Prepare for the minimization by preprocessing the input files into a run file with the following cell.\n"
   ]
  },
  {
   "cell_type": "code",
   "execution_count": null,
   "metadata": {},
   "outputs": [],
   "source": [
    "em_grompp_string='gmx grompp -f em.mdp -c solvated.gro -o em.tpr'\n",
    "terminal_call(em_grompp_string,output_files)"
   ]
  },
  {
   "cell_type": "markdown",
   "metadata": {},
   "source": [
    "This generates the file **em.tpr**. We will run the mimimization with the following cell.\n"
   ]
  },
  {
   "cell_type": "code",
   "execution_count": null,
   "metadata": {},
   "outputs": [],
   "source": [
    "em_md_string='gmx mdrun -v -deffnm em -ntmpi 1'\n",
    "terminal_call(em_md_string,output_files)"
   ]
  },
  {
   "cell_type": "markdown",
   "metadata": {},
   "source": [
    "Here we have had to set **-ntmpi 1** to specify only using one mpi rank since the system is so small. For larger systems more mpi ranks would be appropriate. For very small systems such as this one, it would also be possible to use **-nt 1** to specify only using one processor.\n",
    "\n",
    "**Question:** what happens if you change the **-nt** or **-ntmpi** to different numbers? What would do you think would happen on a larger system?\n",
    "\n"
   ]
  },
  {
   "cell_type": "markdown",
   "metadata": {},
   "source": [
    " ## Global equilibration\n",
    "We are now ready to equilibrate the system thermally. For this we will turn on pressure and temperature coupling: we’re trying to calculate the difference in Gibbs free energy, and for that, the system must maintain temperature, but also pressure, while the ethanol molecule is de-coupled. The global equilibration (i.e. the equilibration done before we impose several different values) is done with **equil.mdp**:\n"
   ]
  },
  {
   "cell_type": "code",
   "execution_count": null,
   "metadata": {},
   "outputs": [],
   "source": [
    "equil_mdp=\"\"\";equilibration mdp options\n",
    "integrator               = md\n",
    "nsteps                   = 20000\n",
    "dt                       = 0.002\n",
    "nstenergy                = 100\n",
    "rlist                    = 1.0\n",
    "nstlist                  = 10\n",
    "vdw-type                 = pme\n",
    "rvdw                     = 1.0\n",
    "coulombtype              = pme\n",
    "rcoulomb                 = 1.0\n",
    "fourierspacing           = 0.12\n",
    "constraints              = all-bonds\n",
    "tcoupl                   = v-rescale\n",
    "tc-grps                  = system\n",
    "tau-t                    = 0.2\n",
    "ref-t                    = 300\n",
    "pcoupl                   = berendsen\n",
    "ref-p                    = 1\n",
    "compressibility          = 4.5e-5\n",
    "tau-p                    = 5\n",
    "gen-vel                  = yes\n",
    "gen-temp                 = 300\n",
    "\"\"\"\n",
    "write_mdp(equil_mdp,'equil.mdp',output_files)"
   ]
  },
  {
   "cell_type": "markdown",
   "metadata": {},
   "source": [
    "We’ll be using the v-rescale thermostat, and the Berendsen barostat. We run equilibration in the following cell.\n"
   ]
  },
  {
   "cell_type": "code",
   "execution_count": null,
   "metadata": {},
   "outputs": [],
   "source": [
       "equil_grompp_string='gmx grompp -f equil.mdp -c em.gro -o equil.tpr'\n",
       "terminal_call(equil_grompp_string,output_files)\n",
       "equil_md_string='gmx mdrun -deffnm equil -v -ntmpi 1'\n",
       "terminal_call(equil_md_string,output_files)"
   ]
  },
  {
   "cell_type": "markdown",
   "metadata": {},
   "source": [
    "As before, you might need to limit the number of cores used. After this we should be ready with a *hopefully* equilibrated configuration of ethanol in water in a minute. The name of the output configuration is **equil.gro**. \n",
    "\n",
    "**Question**: You should check whether the system has been equilibrated. How could you do this?\n"
   ]
  },
  {
   "cell_type": "markdown",
   "metadata": {},
   "source": [
       "## Creating the $\\lambda$ points\n",
       "After the equilibration is done, we are ready to split the system into different $\\lambda$ points. We will do this in the following cell, which will run **grompp** and **mdrun** sequntially for each $\\lambda$ point. We could also create slurm submit scripts for this if the jobs were slower, but for a system of this size it is not necessary.\n",
       "\n",
       "The free energy settings state the following: take the molecule ethanol, and couple it to our variable $\\lambda$. This is done so that $\\lambda=0$ means that the molecule is de-coupled, and $\\lambda=1$ means that the molecule is fully coupled (vdwq means LennardJones + Coulomb). The **sc-power**, **sc-sigma** and **sc-alpha** settings control the ‘soft-core’ interactions that prevent the system from having overlapping particles as it is de-coupled.\n",
       "\n",
       "The only things that still need to be set are the actual $\\lambda$ value **init-lambda** and the **foreign-lambda** value: that field determines for which other $\\lambda$ values the simulation should calculate energy differences. For our purposes, we will just calculate energy differences to all other $\\lambda$ values and keep this the same for all simulations (the performance impact of this is negligible).\n"
   ]
  },
  {
   "cell_type": "code",
   "execution_count": null,
   "metadata": {},
   "outputs": [],
   "source": [
    "run_mdp=\"\"\"; we'll use the sd integrator with 100000 time steps (200ps)\n",
    "integrator               = sd\n",
    "nsteps                   = 100000\n",
    "dt                       = 0.002\n",
    "nstenergy                = 1000\n",
    "nstlog                   = 5000\n",
    "; cut-offs at 1.0nm\n",
    "rlist                    = 1.0\n",
    "dispcorr                 = EnerPres\n",
    "vdw-type                 = pme\n",
    "rvdw                     = 1.0\n",
    "; Coulomb interactions\n",
    "coulombtype              = pme\n",
    "rcoulomb                 = 1.0\n",
    "fourierspacing           = 0.12\n",
    "; Constraints\n",
    "constraints              = all-bonds\n",
    "; set temperature to 300K\n",
    "tcoupl                   = v-rescale\n",
    "tc-grps                  = system\n",
    "tau-t                    = 0.2\n",
    "ref-t                    = 300\n",
    "; set pressure to 1 bar with a thermostat that gives a correct\n",
    "; thermodynamic ensemble\n",
    "pcoupl                   = parrinello-rahman\n",
    "ref-p                    = 1\n",
    "compressibility          = 4.5e-5\n",
    "tau-p                    = 5\n",
    "\n",
    "; and set the free energy parameters\n",
    "free-energy              = yes\n",
    "couple-moltype           = ethanol\n",
    "; these 'soft-core' parameters make sure we never get overlapping\n",
    "; charges as lambda goes to 0\n",
    "sc-power                 = 1\n",
    "sc-sigma                 = 0.3\n",
    "sc-alpha                 = 1.0\n",
    "; we still want the molecule to interact with itself at lambda=0\n",
    "couple-intramol          = no\n",
    "couple-lambda1           = vdwq\n",
    "couple-lambda0           = none\n",
    "init-lambda-state        = {}\n",
    "; These are the lambda states at which we simulate\n",
    "; for separate LJ and Coulomb decoupling, use\n",
    "fep-lambdas              = 0.0 0.2 0.4 0.6 0.8 0.9 1.0\n",
    "\"\"\""
   ]
  },
  {
   "cell_type": "markdown",
   "metadata": {},
   "source": [
       "We will actually run the simulations in the following cell.\n"
   ]
  },
  {
   "cell_type": "code",
   "execution_count": null,
   "metadata": {},
   "outputs": [],
   "source": [
    "number_of_lambdas=7\n",
    "for lambda_number in range(number_of_lambdas):\n",
    "    lambda_directory=os.path.join(output_files,'lambda_{:0>2}'.format(lambda_number))\n",
    "    os.mkdir(lambda_directory)\n",
    "    gro_file=os.path.join(output_files,'equil.gro')\n",
    "    top_file=os.path.join(output_files,'topol.top')\n",
    "    shutil.copy(gro_file,os.path.join(lambda_directory,'conf.gro'))\n",
    "    shutil.copy(top_file,lambda_directory)\n",
    "    write_mdp(run_mdp.format(lambda_number),'grompp.mdp',lambda_directory)\n",
    "    run_grompp_string='gmx grompp'\n",
    "    terminal_call(run_grompp_string,lambda_directory)\n",
    "    run_mdrun_string='gmx mdrun -nt 1'\n",
    "    terminal_call(run_mdrun_string,lambda_directory)"
   ]
  },
  {
   "cell_type": "markdown",
   "metadata": {},
   "source": [
       " ## Post-processing: extracting the free energy\n",
       "After the simulations are done, we can extract the full free energy difference from the output data. Check your directories lambda_00 to lambda_06 for files called dhdl.xvg. These contain the energy differences that are going to be used to calculate the free energy difference. Combine them into a free energy with the Gromacs BAR tool gmx bar in the following cell.\n"
   ]
  },
  {
   "cell_type": "code",
   "execution_count": null,
   "metadata": {},
   "outputs": [],
   "source": [
       "for lambda_number in range(number_of_lambdas):\n",
       "    lambda_directory=os.path.join(output_files,'lambda_{:0>2}'.format(lambda_number))\n",
       "    bar_string='gmx bar -b 100 -f dhdl.xvg'\n",
       "    terminal_call(bar_string,lambda_directory)"
   ]
  },
  {
   "cell_type": "markdown",
   "metadata": {},
   "source": [
       "This is pure magic. As part of the free energy code in mdrun, we have already calculated the offset enthalpies to the adjacent $\\lambda$ points, so this is already available in the dhdl.xvg file (together with all information about the point itself, what simulation it was, etc) - no need to rerun any simulations or store the entire trajectories. Second, the gmx bar command will do all the complicated processing needed for Bennett Acceptance Ratio free energies and just give you the results.\n",
       "\n",
       "Where the -b 100 means that the first 100 ps should be disregarded: they serve as another equilibration, this time at the conditions of the simulation. You should get a free energy difference of approximately -20.6 +/- 2.4 kJ/mol (this may be different if you run on different hardware: this answer is from a standard x86_64 cluster). This should be compared to an experimental value of -20.9 kJ/mol.\n",
       "\n",
       "**Question**: Longer runs will change the free energy value a bit as the standard error estimate shrinks (try it). Exactly what value you get will depend on a number of settings, such as whether you use LJ-PME. Why can there sometimes be a significant (i.e. bigger than the estimated error) difference between the experimental result and the simulation result? How could this be improved?\n",
       "\n",
       "**Question**: Look at the error bars for the individual $\\lambda$ points: they vary a lot between individual point pairs. What does this mean for the efficiency for the overall calculation? How could it be improved?\n"
   ]
  },
  {
   "cell_type": "markdown",
   "metadata": {},
   "source": [
       " ## Where to go from here\n",
       "After calculating the free energy of solvation, we’ve solved the first part of the free energy of binding of the earlier equations. The second part involves coupling a molecule into (or out of) a situation where it is bound to a protein. This introduces one additional complexity: we end up with a situation where a weakly coupled ligand wanders through our system:\n",
       "![weak-couple.png](./images/weak-couple.png)\n",
       "which is bad because this is a poorly reversible situation: there are suddenly very few states that map from a weakly coupled to a more strongly coupled molecule, which will drastically reduce the accuracy of the free energy calculation.\n",
       "\n",
       "This situation can be remedied by forcing the ligand to stay at a specific position relative to the protein. This can be done with the Gromacs ‘pull code’, which allows the specification of arbitrary forces or constraints onto with respect to centers of mass of any chosen set of atoms onto any other group of atoms. With a pull type of ‘umbrella’, we can specify that we want a quadratic potential to this specified location, forcing the ligand to stay at its native position even when it has been fully de-coupled.\n",
       "\n",
       "One way find out where to put the center of the force is by choosing a group of atoms in the protein close to the ligand, and doing a simulation with full ligand coupling, where the pull code is enabled, but with zero force. The pull code will then frequently output the coordinates of the ligand, from which an average position and an expected deviation can be calculated. This can then serve as a reference point for the location of the center of force for the pull code during the production runs, and the force constant of the pull code.\n",
       "\n",
       "Once the free energy has been calculated, care must be taken to correct for the fact that we have trapped our molecule. This can easily be done analytically.\n",
       "\n",
       "**Optional Question**: Given a measured standard deviation in the location of the center of mass of our ligand, how do we choose the force constant for the pull code?\n",
       "\n",
       "**Optional Question**: How do we correct for using the pull code: what is the contribution to the free energy of applying a quadratic potential to a molecule?\n"
   ]
  }
 ],
 "metadata": {
  "jupytext": {
   "cell_metadata_filter": "-all",
   "executable": "/usr/env python",
   "main_language": "python",
   "notebook_metadata_filter": "-all"
  },
  "kernelspec": {
   "display_name": "Python 3",
   "language": "python",
   "name": "python3"
  },
  "language_info": {
   "codemirror_mode": {
    "name": "ipython",
    "version": 3
   },
   "file_extension": ".py",
   "mimetype": "text/x-python",
   "name": "python",
   "nbconvert_exporter": "python",
   "pygments_lexer": "ipython3",
   "version": "3.6.7"
  }
 },
 "nbformat": 4,
 "nbformat_minor": 2
}
